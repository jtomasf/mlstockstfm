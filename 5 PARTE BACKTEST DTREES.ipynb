{
 "cells": [
  {
   "cell_type": "code",
   "execution_count": 1,
   "id": "077c516c",
   "metadata": {},
   "outputs": [],
   "source": [
    "# Code from Book: Build Your Own AI Investor\n",
    "# Damon Lee 2020\n",
    "# Check out the performance on www.valueinvestingai.com\n",
    "# Code uses data from the (presumably) nice people at https://simfin.com/. \n",
    "# Feel free to fork this code for others to see what can be done with it.\n",
    "\n",
    "import pandas as pd\n",
    "import numpy as np\n",
    "import math\n",
    "import pickle # get the ML model from other notebook\n",
    "from matplotlib import pyplot as plt # scatter plot\n",
    "import matplotlib.lines as mlines # plot"
   ]
  },
  {
   "cell_type": "code",
   "execution_count": 2,
   "id": "6d068d7b",
   "metadata": {},
   "outputs": [
    {
     "name": "stdout",
     "output_type": "stream",
     "text": [
      "3.9.7\n"
     ]
    }
   ],
   "source": [
    "from platform import python_version\n",
    "print(python_version())"
   ]
  },
  {
   "cell_type": "code",
   "execution_count": 3,
   "id": "c74eb3ed",
   "metadata": {},
   "outputs": [],
   "source": [
    "x=pd.read_csv(\"Annual_Stock_Price_Fundamentals_Ratios.csv\", index_col=0)\n",
    "yperf=pd.read_csv(\"Annual_Stock_Price_Performance_Percentage.csv\", index_col=0)\n",
    "yperf=yperf[\"Perf\"]"
   ]
  },
  {
   "cell_type": "code",
   "execution_count": 4,
   "id": "233be3d5",
   "metadata": {},
   "outputs": [],
   "source": [
    "X_train=pd.read_csv(\"Annual_Stock_Price_Fundamentals_Ratios_train.csv\", index_col=0)\n",
    "X_test=pd.read_csv(\"Annual_Stock_Price_Fundamentals_Ratios_test.csv\", index_col=0)\n",
    "y_train=pd.read_csv(\"Annual_Stock_Price_Performance_Percentage_train.csv\", index_col=0)\n",
    "y_test=pd.read_csv(\"Annual_Stock_Price_Performance_Percentage_test.csv\", index_col=0)"
   ]
  },
  {
   "cell_type": "code",
   "execution_count": 5,
   "id": "99591bff",
   "metadata": {},
   "outputs": [
    {
     "name": "stdout",
     "output_type": "stream",
     "text": [
      "train mse:  0.35172807594033656\n",
      "test mse:  1.4926970688218835\n"
     ]
    }
   ],
   "source": [
    "# DecisionTreeRegressor\n",
    "from sklearn.pipeline import Pipeline\n",
    "from sklearn.tree import DecisionTreeRegressor\n",
    "\n",
    "pl_decTree = Pipeline([\n",
    "    ('DecisionTreeRegressor', DecisionTreeRegressor(random_state=42, max_depth=9))\n",
    "])\n",
    "\n",
    "pl_decTree.fit(X_train, y_train)\n",
    "y_pred = pl_decTree.predict(X_test)\n",
    "from sklearn.metrics import mean_squared_error\n",
    "print('train mse: ', mean_squared_error(y_train, pl_decTree.predict(X_train)))\n",
    "print('test mse: ', mean_squared_error(y_test, y_pred))\n",
    "\n",
    "import pickle\n",
    "pickle.dump(pl_decTree, open(\"pl_decTree.p\", \"wb\" ))"
   ]
  },
  {
   "cell_type": "code",
   "execution_count": 6,
   "id": "a142436e",
   "metadata": {},
   "outputs": [],
   "source": [
    "# X AND Y (no splitting for train/test)\n",
    "# Financial ratios \n",
    "x=pd.read_csv(\"Annual_Stock_Price_Fundamentals_Ratios.csv\", index_col=0)\n",
    "# annual stock performances\n",
    "y=pd.read_csv(\"Annual_Stock_Price_Performance_Filtered.csv\", index_col=0)\n",
    "# convert to date\n",
    "y[\"Date\"], y[\"Date2\"]=pd.to_datetime(y[\"Date\"]), pd.to_datetime(y[\"Date2\"])\n",
    "\n",
    "# X AND Y (splitting for train/test)\n",
    "X_train=pd.read_csv(\"Annual_Stock_Price_Fundamentals_Ratios_train.csv\", index_col=0)\n",
    "X_test=pd.read_csv(\"Annual_Stock_Price_Fundamentals_Ratios_test.csv\", index_col=0)\n",
    "y_train=pd.read_csv(\"Annual_Stock_Price_Performance_Percentage_train.csv\", index_col=0)\n",
    "y_test=pd.read_csv(\"Annual_Stock_Price_Performance_Percentage_test.csv\", index_col=0)\n",
    "\n",
    "y_=pd.DataFrame()\n",
    "y_=y.loc[y_test.index.values, :]\n",
    "\n",
    "# convert string to datetime\n",
    "y_[\"Date\"], y_[\"Date2\"]=pd.to_datetime(y_[\"Date\"]), pd.to_datetime(y_[\"Date2\"])"
   ]
  },
  {
   "cell_type": "code",
   "execution_count": 7,
   "id": "3e41af55",
   "metadata": {},
   "outputs": [],
   "source": [
    "# Calculate Altman Z'' scores 1995\n",
    "def calcZScores(x):\n",
    "    Z = pd.DataFrame()\n",
    "    Z['Z score'] = 3.25 \\\n",
    "    + 6.51 * x['(CA-CL)/TA']\\\n",
    "    + 3.26 * x['RE/TA']\\\n",
    "    + 6.72 * x['EBIT/TA']\\\n",
    "    + 1.05 * x['Book Equity/TL']\n",
    "    return Z"
   ]
  },
  {
   "cell_type": "code",
   "execution_count": 8,
   "id": "b5f23866",
   "metadata": {},
   "outputs": [],
   "source": [
    "# Daily stock price time series for ALL stocks. 5M rows. Some days missing.\n",
    "def getYRawData():\n",
    "    daily_stock_prices=pd.read_csv('C:/Users/Usuario/MachineLearning/Stock_Data/SimFin/us-shareprices-daily/us-shareprices-daily.csv',\\\n",
    "                                   delimiter=';')\n",
    "    daily_stock_prices[\"Date\"]=pd.to_datetime(daily_stock_prices[\"Date\"])\n",
    "    print('Reading historical time series stock data, matrix size is: ', daily_stock_prices.shape)\n",
    "    return daily_stock_prices"
   ]
  },
  {
   "cell_type": "code",
   "execution_count": 9,
   "id": "5a666a5d",
   "metadata": {},
   "outputs": [],
   "source": [
    "def getYPerf(y_):\n",
    "    y=pd.DataFrame()\n",
    "    y[\"Ticker\"] = y_[\"Ticker\"]\n",
    "    y[\"Perf\"]=(y_[\"Open Price2\"]-y_[\"Open Price\"])/y_[\"Open Price\"]\n",
    "    y[y[\"Perf\"].isnull()]=0\n",
    "    return y"
   ]
  },
  {
   "cell_type": "code",
   "execution_count": 10,
   "id": "9261373a",
   "metadata": {},
   "outputs": [],
   "source": [
    "def getStockPriceBetweenDates(date1, date2, ticker, d, rows):\n",
    "#     # Alternative way\n",
    "#     rows = d[(d[\"Date\"].between(pd.to_datetime(date1),\\\n",
    "#                                 pd.to_datetime(date2) )) \\\n",
    "#                                  & (d[\"Ticker\"]==ticker)]\n",
    "    rows = d.loc[(d[\"Date\"].values>date1) &\\\n",
    "                 (d[\"Date\"].values<date2) &\\\n",
    "                 (d[\"Ticker\"]==ticker)]\n",
    "    return rows"
   ]
  },
  {
   "cell_type": "code",
   "execution_count": 11,
   "id": "c7a23ba6",
   "metadata": {},
   "outputs": [],
   "source": [
    "def getStockPriceData(ticker, y_, mask, daily_stock_prices, rows):\n",
    "    date1 = y_[mask][y_[mask][\"Ticker\"] == ticker][\"Date\"].values[0]\n",
    "    date2 = y_[mask][y_[mask][\"Ticker\"] == ticker][\"Date2\"].values[0]\n",
    "    rows = getStockPriceBetweenDates(date1, date2,\\\n",
    "                                     ticker, daily_stock_prices, rows)\n",
    "    return rows"
   ]
  },
  {
   "cell_type": "code",
   "execution_count": 12,
   "id": "cd114956",
   "metadata": {},
   "outputs": [],
   "source": [
    "def getDataForDateRange(date_Index_New, rows):\n",
    "    WeeklyStockDataRows = pd.DataFrame()\n",
    "    for I in date_Index_New:\n",
    "        WeeklyStockDataRows = WeeklyStockDataRows.append(\\\n",
    "          rows.iloc[rows.index.get_loc(I, method=\"nearest\")])\n",
    "    return WeeklyStockDataRows"
   ]
  },
  {
   "cell_type": "code",
   "execution_count": 13,
   "id": "25ec77f1",
   "metadata": {},
   "outputs": [],
   "source": [
    "def getStockTimeSeries(dateTimeIndex, y_, tickers, mask, daily_stock_prices):\n",
    "    stockRet = pd.DataFrame(index=dateTimeIndex)\n",
    "    dTI_new = dateTimeIndex.strftime('%Y-%m-%d') # Change Date Format\n",
    "    rows=pd.DataFrame()\n",
    "    for tick in tickers:\n",
    "        # Here \"rows\" is stock price time series data for individual stock\n",
    "        rows = getStockPriceData(tick, y_, mask, daily_stock_prices, rows)\n",
    "        rows.index = pd.DatetimeIndex(rows[\"Date\"])\n",
    "        WeeklyStockDataRows = getDataForDateRange(dTI_new, rows)\n",
    "        # Here can use Open, Close, Adj. Close, etc. price\n",
    "        stockRet[tick]=WeeklyStockDataRows[\"Close\"].values\n",
    "    return stockRet"
   ]
  },
  {
   "cell_type": "code",
   "execution_count": 14,
   "id": "c19f8585",
   "metadata": {},
   "outputs": [],
   "source": [
    "def getPortfolioRelativeTimeSeries(stockRet):\n",
    "    for key in stockRet.keys():\n",
    "        stockRet[key]=stockRet[key]/stockRet[key][0]\n",
    "    stockRet[\"Portfolio\"] = stockRet.sum(axis=1)/(stockRet.keys().shape[0])\n",
    "    return stockRet"
   ]
  },
  {
   "cell_type": "code",
   "execution_count": 15,
   "id": "64dfcb1b",
   "metadata": {},
   "outputs": [],
   "source": [
    "# Function returns to us dataframes of selected stocks/portfolio performance for 1 year.\n",
    "# y_ is annual stock performances (all backtest years)\n",
    "# date_starting e.g. '2010-01-01'\n",
    "# daily_stock_prices is daily(mostly) stock price time series for ALL stocks\n",
    "def getPortTimeSeriesForYear(date_starting, y_, x, daily_stock_prices, ml_model_pipeline):\n",
    "    # get y dataframe as ticker and ticker performance only\n",
    "    y = getYPerf(y_)\n",
    "    # Get performance only for time frame we care about,\n",
    "    # mask original data using the start date\n",
    "    mask = y_[\"Date\"].between(\\\n",
    "              pd.to_datetime(date_starting) - pd.Timedelta(days=60),\\\n",
    "              pd.to_datetime(date_starting) + pd.Timedelta(days=60) )\n",
    "    # Get return prediction from model\n",
    "    y_pred = ml_model_pipeline.predict(x[mask])\n",
    "    # Make it a DataFrame to select the top picks\n",
    "    y_pred = pd.DataFrame(y_pred)\n",
    "    \n",
    "    \n",
    "    ##### Change in code for Z score filtering ##### \n",
    "    # Separate out stocks with low Z scores\n",
    "    z = calcZScores(x)\n",
    "    # 3.75 is approx. B- rating\n",
    "    zbl = (z['Z score'][mask].reset_index(drop=True) > 3) \n",
    "    y_pred_z = y_pred[zbl]\n",
    "    # Get bool list of top stocks\n",
    "    bl = (y_pred_z[0] > y_pred_z.nlargest(8,0).tail(1)[0].values[0]) \n",
    "    dateTimeIndex = pd.date_range(\\\n",
    "                          start=date_starting, periods=52, freq='W')\n",
    "    # See Z scores\n",
    "    #print(z['Z score'][mask].reset_index(drop=True)[bl & zbl]) \n",
    "    # 7 greatest performance stocks of y_pred \n",
    "    ticker_list = \\\n",
    "    y[mask].reset_index(drop=True)[bl & zbl][\"Ticker\"].values\n",
    "    ##### Change in code for Z score filtering ##### \n",
    "    \n",
    "    \n",
    "#     ##### Tutorial code without Z score filtering ##### \n",
    "      # bool list of top stocks\n",
    "#     bl = (y_pred[0] > y_pred.nlargest(8,0).tail(1)[0].values[0]) \n",
    "      # DatetimeIndex\n",
    "#     dateTimeIndex = pd.date_range(start=date_starting, periods=52, freq='W')\n",
    "#     # 7 greatest performance stocks of y_pred \n",
    "#     ticker_list = y[mask].reset_index(drop=True)[bl][\"Ticker\"].values\n",
    "#     ##### Tutorial code without Z score filtering ##### \n",
    "    \n",
    "    \n",
    "    # Issue with one of the tickers equaling 0, fix with lambda function\n",
    "    #ticker_list = list(filter(lambda dateTimeIndex: dateTimeIndex != 0, ticker_list))\n",
    "    \n",
    "    # After we know our stock picks, we get the stock performance\n",
    "    # Get DataFrame index of time stamp, series of stock prices, keys=tickers\n",
    "    stockRet = getStockTimeSeries(dateTimeIndex, y_,\\\n",
    "                                  ticker_list, mask, daily_stock_prices)\n",
    "    # Get DataFrame of relative stock prices from 1st day(or close) \n",
    "    # and whole portfolio\n",
    "    stockRetRel = getPortfolioRelativeTimeSeries(stockRet)\n",
    "    return [stockRetRel, stockRetRel[\"Portfolio\"], ticker_list]"
   ]
  },
  {
   "cell_type": "code",
   "execution_count": 16,
   "id": "28c0614c",
   "metadata": {},
   "outputs": [],
   "source": [
    "def getPortTimeSeries(y_, x, daily_stock_prices, ml_model_pipeline, verbose=True):\n",
    "    dr=pd.date_range(start='2009-01-01', periods=11, freq='Y') # Date range\n",
    "    port_perf_all_years = pd.DataFrame()\n",
    "    ref=1 # relative performance reference.\n",
    "    for curr_date in dr:\n",
    "        [comp, this_year_perf, ticker_list] = \\\n",
    "        getPortTimeSeriesForYear(curr_date, y_, x,\\\n",
    "                                 daily_stock_prices, ml_model_pipeline)\n",
    "        if verbose:\n",
    "            print(\"Backtest performance for year starting \",\\\n",
    "                  curr_date, \" is:\",\\\n",
    "                  round((this_year_perf.iloc[-1]-1)*100,2), \"%\")\n",
    "            print(\"With stocks:\", ticker_list)\n",
    "            for tick in ticker_list:\n",
    "                print(tick, \"Performance was:\",\\\n",
    "                      round((comp[tick].iloc[-1]-1)*100,2), \"%\" )\n",
    "            print(\"---------------------------------------------\")\n",
    "        \n",
    "        this_year_perf = this_year_perf * ref\n",
    "        port_perf_all_years = pd.concat([port_perf_all_years,\\\n",
    "                                         this_year_perf])\n",
    "        ref = this_year_perf.iloc[-1]\n",
    "    port_perf_all_years.columns = [\"Indexed Performance\"]\n",
    "    return port_perf_all_years"
   ]
  },
  {
   "cell_type": "code",
   "execution_count": 17,
   "id": "22fbf494",
   "metadata": {},
   "outputs": [
    {
     "name": "stdout",
     "output_type": "stream",
     "text": [
      "Reading historical time series stock data, matrix size is:  (8125701, 11)\n"
     ]
    }
   ],
   "source": [
    "daily_stock_prices=getYRawData()"
   ]
  },
  {
   "cell_type": "code",
   "execution_count": 18,
   "id": "de7710f0",
   "metadata": {},
   "outputs": [
    {
     "name": "stdout",
     "output_type": "stream",
     "text": [
      "Backtest performance for year starting  2009-12-31 00:00:00  is: 10.47 %\n",
      "With stocks: ['TEL' 'HRC' 'WY']\n",
      "TEL Performance was: 23.77 %\n",
      "HRC Performance was: 62.79 %\n",
      "WY Performance was: -55.15 %\n",
      "---------------------------------------------\n",
      "Backtest performance for year starting  2010-12-31 00:00:00  is: -5.27 %\n",
      "With stocks: ['CACC' 'MSI' 'CBM' 'NFLX' 'HZO' 'ENDP_old']\n",
      "CACC Performance was: 19.4 %\n",
      "MSI Performance was: 24.37 %\n",
      "CBM Performance was: 29.73 %\n",
      "NFLX Performance was: -68.13 %\n",
      "HZO Performance was: -33.69 %\n",
      "ENDP_old Performance was: -3.31 %\n",
      "---------------------------------------------\n",
      "Backtest performance for year starting  2011-12-31 00:00:00  is: -9.11 %\n",
      "With stocks: ['BSX' 'STRR' 'GRA' 'SAVE' 'TPX' 'CCXI' 'ARLP']\n",
      "BSX Performance was: -3.34 %\n",
      "STRR Performance was: -3.94 %\n",
      "GRA Performance was: 20.6 %\n",
      "SAVE Performance was: 0.52 %\n",
      "TPX Performance was: -54.56 %\n",
      "CCXI Performance was: -1.18 %\n",
      "ARLP Performance was: -21.85 %\n",
      "---------------------------------------------\n",
      "Backtest performance for year starting  2012-12-31 00:00:00  is: 43.32 %\n",
      "With stocks: ['LLNW' 'NSH' 'KND' 'PRDO' 'HFC' 'ACLS']\n",
      "LLNW Performance was: -6.19 %\n",
      "NSH Performance was: -3.35 %\n",
      "KND Performance was: 76.62 %\n",
      "PRDO Performance was: 88.33 %\n",
      "HFC Performance was: -14.43 %\n",
      "ACLS Performance was: 118.92 %\n",
      "---------------------------------------------\n",
      "Backtest performance for year starting  2013-12-31 00:00:00  is: 5.83 %\n",
      "With stocks: ['BGCP' 'CENT' 'PFPT' 'VRSK' 'TPH' 'WMGI_delis']\n",
      "BGCP Performance was: 39.49 %\n",
      "CENT Performance was: 10.6 %\n",
      "PFPT Performance was: 22.6 %\n",
      "VRSK Performance was: 1.46 %\n",
      "TPH Performance was: -18.28 %\n",
      "WMGI_delis Performance was: -20.89 %\n",
      "---------------------------------------------\n",
      "Backtest performance for year starting  2014-12-31 00:00:00  is: -23.2 %\n",
      "With stocks: ['LLNW' 'KLIC' 'ZEUS' 'SKYW' 'NVTA' 'INFI']\n",
      "LLNW Performance was: -50.0 %\n",
      "KLIC Performance was: -23.83 %\n",
      "ZEUS Performance was: -28.96 %\n",
      "SKYW Performance was: 64.55 %\n",
      "NVTA Performance was: -52.3 %\n",
      "INFI Performance was: -48.68 %\n",
      "---------------------------------------------\n",
      "Backtest performance for year starting  2015-12-31 00:00:00  is: 80.54 %\n",
      "With stocks: ['VRSK' 'RIG' 'SM' 'LXU' 'CIK' 'DAR' 'ANDX']\n",
      "VRSK Performance was: 11.16 %\n",
      "RIG Performance was: 75.95 %\n",
      "SM Performance was: 344.14 %\n",
      "LXU Performance was: 28.07 %\n",
      "CIK Performance was: 17.1 %\n",
      "DAR Performance was: 63.41 %\n",
      "ANDX Performance was: 23.92 %\n",
      "---------------------------------------------\n",
      "Backtest performance for year starting  2016-12-31 00:00:00  is: -9.48 %\n",
      "With stocks: ['ALKS' 'SBGI' 'KND' 'FLGT' 'JCI' 'HLF']\n",
      "ALKS Performance was: -0.89 %\n",
      "SBGI Performance was: -8.13 %\n",
      "KND Performance was: 6.21 %\n",
      "FLGT Performance was: -65.22 %\n",
      "JCI Performance was: -13.29 %\n",
      "HLF Performance was: 24.47 %\n",
      "---------------------------------------------\n",
      "Backtest performance for year starting  2017-12-31 00:00:00  is: -19.69 %\n",
      "With stocks: ['ALLE' 'HES' 'DLPH' 'PODD' 'SSP']\n",
      "ALLE Performance was: -13.04 %\n",
      "HES Performance was: -22.62 %\n",
      "DLPH Performance was: -73.35 %\n",
      "PODD Performance was: -2.63 %\n",
      "SSP Performance was: 13.21 %\n",
      "---------------------------------------------\n",
      "Backtest performance for year starting  2018-12-31 00:00:00  is: 21.51 %\n",
      "With stocks: ['MAS' 'CVNA' 'MITK' 'ENR' 'LLNW' 'AGIO' 'LMT']\n",
      "MAS Performance was: 33.96 %\n",
      "CVNA Performance was: 105.71 %\n",
      "MITK Performance was: -35.78 %\n",
      "ENR Performance was: 4.21 %\n",
      "LLNW Performance was: 30.97 %\n",
      "AGIO Performance was: -19.11 %\n",
      "LMT Performance was: 30.62 %\n",
      "---------------------------------------------\n",
      "Backtest performance for year starting  2019-12-31 00:00:00  is: 23.86 %\n",
      "With stocks: ['ZEUS' 'EVOP' 'WK' 'BZH' 'LIVE' 'PFPT' 'AYX']\n",
      "ZEUS Performance was: -2.36 %\n",
      "EVOP Performance was: 4.71 %\n",
      "WK Performance was: 93.65 %\n",
      "BZH Performance was: -3.83 %\n",
      "LIVE Performance was: 84.67 %\n",
      "PFPT Performance was: 10.23 %\n",
      "AYX Performance was: -20.06 %\n",
      "---------------------------------------------\n",
      "Performance is:  118.85787829357261 %\n"
     ]
    }
   ],
   "source": [
    "#pl_linear.p, pl_ElasticNet.p, pl_KNeighbors.p, pl_rfregressor.p, pl_decTree.p, pl_svm.p\n",
    "regressor_pipeline = pickle.load(open(\"pl_decTree.p\", \"rb\" ))\n",
    "#regressor_pipeline = pickle.load(open(\"rfregressor.p\", \"rb\" ))\n",
    "test = getPortTimeSeries(y_, X_test, daily_stock_prices, regressor_pipeline, verbose=True)\n",
    "print('Performance is: ', 100 * (test[\"Indexed Performance\"][-1]-1), '%')"
   ]
  },
  {
   "cell_type": "code",
   "execution_count": 36,
   "id": "a6aee3c8",
   "metadata": {},
   "outputs": [
    {
     "data": {
      "image/png": "[encoded data removed]",
      "text/plain": [
       "<Figure size 432x288 with 1 Axes>"
      ]
     },
     "metadata": {
      "needs_background": "light"
     },
     "output_type": "display_data"
    }
   ],
   "source": [
    "plt.plot(test)\n",
    "plt.grid()\n",
    "plt.legend(['Retornos del portafolio (Backtest)'])\n",
    "plt.ylabel('Retorno Relativo');"
   ]
  },
  {
   "cell_type": "code",
   "execution_count": 20,
   "id": "4872c7d7",
   "metadata": {},
   "outputs": [],
   "source": [
    "y_small = getYPerf(y_) # y is cut down version of y_ with stock returns only\n",
    "\n",
    "# Create a boolean mask for the backtest year we are interested in\n",
    "date = pd.to_datetime('2015-01-01 07:00:00')\n",
    "mask = y_[\"Date\"].between( pd.to_datetime(date) - pd.Timedelta(days=60), pd.to_datetime(date) + pd.Timedelta(days=60) )\n",
    "#y_[mask] # Checking the mask works\n",
    "#x[mask]"
   ]
  },
  {
   "cell_type": "code",
   "execution_count": 21,
   "id": "33c769b7",
   "metadata": {},
   "outputs": [
    {
     "data": {
      "image/png": "[encoded data removed]",
      "text/plain": [
       "<Figure size 432x432 with 1 Axes>"
      ]
     },
     "metadata": {
      "needs_background": "light"
     },
     "output_type": "display_data"
    }
   ],
   "source": [
    "# Load the model pipeline\n",
    "# can be pl_linear.p, pl_KNeighbors.p, pl_rfregressor.p, pl_decTree.p, pl_svm.p ...\n",
    "ml_model_pipeline = pickle.load(open(\"pl_decTree.p\", \"rb\" ))\n",
    "y_pred = ml_model_pipeline.predict(X_test[mask]) # Get stock performance predictions\n",
    "y_pred = pd.DataFrame(y_pred) # Turn into DataFrame\n",
    "\n",
    "plt.figure(figsize=(6,6))\n",
    "# Now output graph.\n",
    "from matplotlib import pyplot as plt\n",
    "import matplotlib.lines as mlines\n",
    "plt.scatter(y_pred[0], y_small[mask][\"Perf\"], s=1)\n",
    "# Formatting\n",
    "plt.grid()\n",
    "plt.axis('equal')\n",
    "plt.title('Returns accuracy for {} backtest'.format(date.year))\n",
    "plt.xlabel('Predicted Return')\n",
    "plt.ylabel('Actual Return')\n",
    "plt.axvline(c='blue', lw=1)\n",
    "plt.axhline(c='blue', lw=1)\n",
    "plt.savefig('result.png')\n",
    "plt.axis([-1,1,-1,1]);"
   ]
  },
  {
   "cell_type": "code",
   "execution_count": 22,
   "id": "97d4fa1e",
   "metadata": {},
   "outputs": [
    {
     "name": "stdout",
     "output_type": "stream",
     "text": [
      "\n",
      "Top predicted perf. stocks picked are:\n",
      "2     LLNW\n",
      "3      RFP\n",
      "32    KLIC\n",
      "47    SKYW\n",
      "70    NVTA\n",
      "86    INFI\n",
      "Name: Ticker, dtype: object\n",
      "\n",
      "Top stocks predicted performance is:\n",
      "           0\n",
      "2   0.692418\n",
      "3   6.372549\n",
      "32  0.789583\n",
      "47  0.793038\n",
      "70  0.472119\n",
      "86  0.511991\n",
      "\n",
      "Actual performance was: \n",
      "   Ticker      Perf\n",
      "2    LLNW -0.602007\n",
      "3     RFP -0.724836\n",
      "32   KLIC -0.202494\n",
      "47   SKYW  0.107610\n",
      "70   NVTA -0.622857\n",
      "86   INFI -0.632021\n",
      "\n",
      "Z scores:\n",
      " 2      9.598341\n",
      "3      4.364590\n",
      "32    15.575440\n",
      "47     5.267632\n",
      "70    16.181678\n",
      "86     5.472175\n",
      "dtype: float64\n"
     ]
    }
   ],
   "source": [
    "# Top stocks picked, and predicted performance.\n",
    "bl = (y_pred[0] > y_pred.nlargest(8,0).tail(1)[0].values[0])\n",
    "\n",
    "print(\"\\nTop predicted perf. stocks picked are:\")\n",
    "print(y_small[mask].reset_index(drop=True)[bl][\"Ticker\"])\n",
    "print(\"\\nTop stocks predicted performance is:\")\n",
    "print(y_pred[bl])\n",
    "\n",
    "\n",
    "print(\"\\nActual performance was: \")\n",
    "print(y_small[mask].reset_index(drop=True)[bl])\n",
    "\n",
    "# Calc Altman Z score:\n",
    "Z = 3.25 \\\n",
    "+ 6.51 * X_test[mask].reset_index(drop=True)[bl]['(CA-CL)/TA']\\\n",
    "+ 3.26 * X_test[mask].reset_index(drop=True)[bl]['RE/TA']\\\n",
    "+ 6.72 * X_test[mask].reset_index(drop=True)[bl]['EBIT/TA']\\\n",
    "+ 1.05 * X_test[mask].reset_index(drop=True)[bl]['Book Equity/TL']\n",
    "print('\\nZ scores:\\n',Z)"
   ]
  },
  {
   "cell_type": "code",
   "execution_count": 23,
   "id": "30f414ca",
   "metadata": {},
   "outputs": [
    {
     "name": "stdout",
     "output_type": "stream",
     "text": [
      "Backtest return is:\n",
      "-0.44610089047106305\n"
     ]
    }
   ],
   "source": [
    "# bool list of 7 greatest performance stocks of y_pred \n",
    "bl = (y_pred[0] > y_pred.nlargest(8,0).tail(1)[0].values[0])\n",
    "\n",
    "# See what the performance is of the selection\n",
    "print(\"Backtest return is:\")\n",
    "print(y_small[mask][\"Perf\"].reset_index(drop=True)[bl].values.mean())"
   ]
  },
  {
   "cell_type": "code",
   "execution_count": 24,
   "id": "eb3e8ee2",
   "metadata": {},
   "outputs": [
    {
     "name": "stdout",
     "output_type": "stream",
     "text": [
      "Reading historical time series stock data, matrix size is:  (8125701, 11)\n"
     ]
    }
   ],
   "source": [
    "d = getYRawData()"
   ]
  },
  {
   "cell_type": "code",
   "execution_count": 25,
   "id": "2cdd7551",
   "metadata": {},
   "outputs": [],
   "source": [
    "# Make X ticks standard, and grab stock prices as close to those points as possible for each stock (To track performance)\n",
    "date_range = pd.date_range(start=date, periods=52, freq='W')#DatetimeIndex\n",
    "\n",
    "# 7 greatest performance stocks of y_pred \n",
    "ticker_list = y_[mask].reset_index(drop=True)[bl][\"Ticker\"].values\n",
    "stockRet = getStockTimeSeries(date_range, y_, ticker_list , mask, daily_stock_prices)"
   ]
  },
  {
   "cell_type": "code",
   "execution_count": 26,
   "id": "c315a5a4",
   "metadata": {},
   "outputs": [],
   "source": [
    "stockRetRel = getPortfolioRelativeTimeSeries(stockRet)"
   ]
  },
  {
   "cell_type": "code",
   "execution_count": 27,
   "id": "8522734c",
   "metadata": {},
   "outputs": [
    {
     "data": {
      "text/html": [
       "<div>\n",
       "<style scoped>\n",
       "    .dataframe tbody tr th:only-of-type {\n",
       "        vertical-align: middle;\n",
       "    }\n",
       "\n",
       "    .dataframe tbody tr th {\n",
       "        vertical-align: top;\n",
       "    }\n",
       "\n",
       "    .dataframe thead th {\n",
       "        text-align: right;\n",
       "    }\n",
       "</style>\n",
       "<table border=\"1\" class=\"dataframe\">\n",
       "  <thead>\n",
       "    <tr style=\"text-align: right;\">\n",
       "      <th></th>\n",
       "      <th>LLNW</th>\n",
       "      <th>RFP</th>\n",
       "      <th>KLIC</th>\n",
       "      <th>SKYW</th>\n",
       "      <th>NVTA</th>\n",
       "      <th>INFI</th>\n",
       "      <th>Portfolio</th>\n",
       "    </tr>\n",
       "  </thead>\n",
       "  <tbody>\n",
       "    <tr>\n",
       "      <th>2015-01-04 07:00:00</th>\n",
       "      <td>1.0</td>\n",
       "      <td>1.0</td>\n",
       "      <td>1.000000</td>\n",
       "      <td>1.0</td>\n",
       "      <td>1.0</td>\n",
       "      <td>1.0</td>\n",
       "      <td>1.000000</td>\n",
       "    </tr>\n",
       "    <tr>\n",
       "      <th>2015-01-11 07:00:00</th>\n",
       "      <td>1.0</td>\n",
       "      <td>1.0</td>\n",
       "      <td>1.011212</td>\n",
       "      <td>1.0</td>\n",
       "      <td>1.0</td>\n",
       "      <td>1.0</td>\n",
       "      <td>1.001869</td>\n",
       "    </tr>\n",
       "    <tr>\n",
       "      <th>2015-01-18 07:00:00</th>\n",
       "      <td>1.0</td>\n",
       "      <td>1.0</td>\n",
       "      <td>1.006307</td>\n",
       "      <td>1.0</td>\n",
       "      <td>1.0</td>\n",
       "      <td>1.0</td>\n",
       "      <td>1.001051</td>\n",
       "    </tr>\n",
       "    <tr>\n",
       "      <th>2015-01-25 07:00:00</th>\n",
       "      <td>1.0</td>\n",
       "      <td>1.0</td>\n",
       "      <td>1.039944</td>\n",
       "      <td>1.0</td>\n",
       "      <td>1.0</td>\n",
       "      <td>1.0</td>\n",
       "      <td>1.006657</td>\n",
       "    </tr>\n",
       "    <tr>\n",
       "      <th>2015-02-01 07:00:00</th>\n",
       "      <td>1.0</td>\n",
       "      <td>1.0</td>\n",
       "      <td>1.095305</td>\n",
       "      <td>1.0</td>\n",
       "      <td>1.0</td>\n",
       "      <td>1.0</td>\n",
       "      <td>1.015884</td>\n",
       "    </tr>\n",
       "  </tbody>\n",
       "</table>\n",
       "</div>"
      ],
      "text/plain": [
       "                     LLNW  RFP      KLIC  SKYW  NVTA  INFI  Portfolio\n",
       "2015-01-04 07:00:00   1.0  1.0  1.000000   1.0   1.0   1.0   1.000000\n",
       "2015-01-11 07:00:00   1.0  1.0  1.011212   1.0   1.0   1.0   1.001869\n",
       "2015-01-18 07:00:00   1.0  1.0  1.006307   1.0   1.0   1.0   1.001051\n",
       "2015-01-25 07:00:00   1.0  1.0  1.039944   1.0   1.0   1.0   1.006657\n",
       "2015-02-01 07:00:00   1.0  1.0  1.095305   1.0   1.0   1.0   1.015884"
      ]
     },
     "execution_count": 27,
     "metadata": {},
     "output_type": "execute_result"
    }
   ],
   "source": [
    "stockRetRel.head()"
   ]
  },
  {
   "cell_type": "code",
   "execution_count": 28,
   "id": "6d9185c5",
   "metadata": {},
   "outputs": [
    {
     "data": {
      "image/png": "[encoded data removed]",
      "text/plain": [
       "<Figure size 432x288 with 1 Axes>"
      ]
     },
     "metadata": {
      "needs_background": "light"
     },
     "output_type": "display_data"
    }
   ],
   "source": [
    "plt.plot(stockRetRel);\n",
    "plt.grid()"
   ]
  },
  {
   "cell_type": "markdown",
   "id": "390c798d",
   "metadata": {},
   "source": [
    "# Now plot backtest with S&P500"
   ]
  },
  {
   "cell_type": "code",
   "execution_count": 29,
   "id": "b947b47f",
   "metadata": {},
   "outputs": [
    {
     "data": {
      "text/plain": [
       "<matplotlib.legend.Legend at 0x21588584fd0>"
      ]
     },
     "execution_count": 29,
     "metadata": {},
     "output_type": "execute_result"
    },
    {
     "data": {
      "image/png": "[encoded data removed]",
      "text/plain": [
       "<Figure size 576x360 with 1 Axes>"
      ]
     },
     "metadata": {
      "needs_background": "light"
     },
     "output_type": "display_data"
    }
   ],
   "source": [
    "# GSPC.csv taken directly from Yahoo.com is the S&P500.\n",
    "spy=pd.read_csv(\"GSPC.csv\", index_col='Date', parse_dates=True)\n",
    "spy['Relative'] = spy[\"Open\"]/spy[\"Open\"][0]\n",
    "\n",
    "import matplotlib\n",
    "import matplotlib.pyplot as plt\n",
    "import numpy as np\n",
    "\n",
    "plt.figure(figsize=(8,5))\n",
    "plt.plot(spy['Relative'])\n",
    "plt.grid()\n",
    "plt.xlabel('Time')\n",
    "plt.ylabel('Relative returns')\n",
    "plt.legend(['S&P500 index performance', 'Linear Regressor Stock Picker'])"
   ]
  },
  {
   "cell_type": "code",
   "execution_count": 30,
   "id": "a0fbcfdd",
   "metadata": {},
   "outputs": [],
   "source": [
    "start_date = \"2010-01-03\"\n",
    "end_date = \"2020-12-27\"\n",
    "\n",
    "after_start_date = spy.index >= start_date\n",
    "before_end_date = spy.index <= end_date\n",
    "between_two_dates = after_start_date & before_end_date\n",
    "filtered_dates = spy.loc[between_two_dates]"
   ]
  },
  {
   "cell_type": "code",
   "execution_count": 31,
   "id": "2f7b3718",
   "metadata": {},
   "outputs": [
    {
     "data": {
      "text/html": [
       "<div>\n",
       "<style scoped>\n",
       "    .dataframe tbody tr th:only-of-type {\n",
       "        vertical-align: middle;\n",
       "    }\n",
       "\n",
       "    .dataframe tbody tr th {\n",
       "        vertical-align: top;\n",
       "    }\n",
       "\n",
       "    .dataframe thead th {\n",
       "        text-align: right;\n",
       "    }\n",
       "</style>\n",
       "<table border=\"1\" class=\"dataframe\">\n",
       "  <thead>\n",
       "    <tr style=\"text-align: right;\">\n",
       "      <th></th>\n",
       "      <th>Unnamed: 0</th>\n",
       "      <th>Open</th>\n",
       "      <th>High</th>\n",
       "      <th>Low</th>\n",
       "      <th>Close</th>\n",
       "      <th>Adj Close</th>\n",
       "      <th>Volume</th>\n",
       "    </tr>\n",
       "    <tr>\n",
       "      <th>Date</th>\n",
       "      <th></th>\n",
       "      <th></th>\n",
       "      <th></th>\n",
       "      <th></th>\n",
       "      <th></th>\n",
       "      <th></th>\n",
       "      <th></th>\n",
       "    </tr>\n",
       "  </thead>\n",
       "  <tbody>\n",
       "    <tr>\n",
       "      <th>2010-01-07</th>\n",
       "      <td>53</td>\n",
       "      <td>1136.270020</td>\n",
       "      <td>1149.739990</td>\n",
       "      <td>1131.319946</td>\n",
       "      <td>1145.680054</td>\n",
       "      <td>1145.680054</td>\n",
       "      <td>22802570000</td>\n",
       "    </tr>\n",
       "    <tr>\n",
       "      <th>2010-01-14</th>\n",
       "      <td>54</td>\n",
       "      <td>1145.680054</td>\n",
       "      <td>1150.449951</td>\n",
       "      <td>1129.250000</td>\n",
       "      <td>1138.040039</td>\n",
       "      <td>1138.040039</td>\n",
       "      <td>18209320000</td>\n",
       "    </tr>\n",
       "    <tr>\n",
       "      <th>2010-01-21</th>\n",
       "      <td>55</td>\n",
       "      <td>1138.680054</td>\n",
       "      <td>1141.579956</td>\n",
       "      <td>1083.109985</td>\n",
       "      <td>1097.500000</td>\n",
       "      <td>1097.500000</td>\n",
       "      <td>27615360000</td>\n",
       "    </tr>\n",
       "    <tr>\n",
       "      <th>2010-01-28</th>\n",
       "      <td>56</td>\n",
       "      <td>1096.930054</td>\n",
       "      <td>1104.729980</td>\n",
       "      <td>1071.589966</td>\n",
       "      <td>1097.280029</td>\n",
       "      <td>1097.280029</td>\n",
       "      <td>23977850000</td>\n",
       "    </tr>\n",
       "    <tr>\n",
       "      <th>2010-02-04</th>\n",
       "      <td>57</td>\n",
       "      <td>1097.250000</td>\n",
       "      <td>1097.250000</td>\n",
       "      <td>1044.500000</td>\n",
       "      <td>1068.130005</td>\n",
       "      <td>1068.130005</td>\n",
       "      <td>25754120000</td>\n",
       "    </tr>\n",
       "    <tr>\n",
       "      <th>...</th>\n",
       "      <td>...</td>\n",
       "      <td>...</td>\n",
       "      <td>...</td>\n",
       "      <td>...</td>\n",
       "      <td>...</td>\n",
       "      <td>...</td>\n",
       "      <td>...</td>\n",
       "    </tr>\n",
       "    <tr>\n",
       "      <th>2020-11-26</th>\n",
       "      <td>621</td>\n",
       "      <td>3638.550049</td>\n",
       "      <td>3678.449951</td>\n",
       "      <td>3594.389893</td>\n",
       "      <td>3669.010010</td>\n",
       "      <td>3669.010010</td>\n",
       "      <td>19503130000</td>\n",
       "    </tr>\n",
       "    <tr>\n",
       "      <th>2020-12-03</th>\n",
       "      <td>622</td>\n",
       "      <td>3668.280029</td>\n",
       "      <td>3712.389893</td>\n",
       "      <td>3657.169922</td>\n",
       "      <td>3672.820068</td>\n",
       "      <td>3672.820068</td>\n",
       "      <td>24726300000</td>\n",
       "    </tr>\n",
       "    <tr>\n",
       "      <th>2020-12-10</th>\n",
       "      <td>623</td>\n",
       "      <td>3659.129883</td>\n",
       "      <td>3711.270020</td>\n",
       "      <td>3633.399902</td>\n",
       "      <td>3701.169922</td>\n",
       "      <td>3701.169922</td>\n",
       "      <td>21997540000</td>\n",
       "    </tr>\n",
       "    <tr>\n",
       "      <th>2020-12-17</th>\n",
       "      <td>624</td>\n",
       "      <td>3713.649902</td>\n",
       "      <td>3726.699951</td>\n",
       "      <td>3636.479980</td>\n",
       "      <td>3690.010010</td>\n",
       "      <td>3690.010010</td>\n",
       "      <td>23782000000</td>\n",
       "    </tr>\n",
       "    <tr>\n",
       "      <th>2020-12-24</th>\n",
       "      <td>625</td>\n",
       "      <td>3694.030029</td>\n",
       "      <td>3756.120117</td>\n",
       "      <td>3689.320068</td>\n",
       "      <td>3732.040039</td>\n",
       "      <td>3732.040039</td>\n",
       "      <td>11944780000</td>\n",
       "    </tr>\n",
       "  </tbody>\n",
       "</table>\n",
       "<p>573 rows × 7 columns</p>\n",
       "</div>"
      ],
      "text/plain": [
       "            Unnamed: 0         Open         High          Low        Close  \\\n",
       "Date                                                                         \n",
       "2010-01-07          53  1136.270020  1149.739990  1131.319946  1145.680054   \n",
       "2010-01-14          54  1145.680054  1150.449951  1129.250000  1138.040039   \n",
       "2010-01-21          55  1138.680054  1141.579956  1083.109985  1097.500000   \n",
       "2010-01-28          56  1096.930054  1104.729980  1071.589966  1097.280029   \n",
       "2010-02-04          57  1097.250000  1097.250000  1044.500000  1068.130005   \n",
       "...                ...          ...          ...          ...          ...   \n",
       "2020-11-26         621  3638.550049  3678.449951  3594.389893  3669.010010   \n",
       "2020-12-03         622  3668.280029  3712.389893  3657.169922  3672.820068   \n",
       "2020-12-10         623  3659.129883  3711.270020  3633.399902  3701.169922   \n",
       "2020-12-17         624  3713.649902  3726.699951  3636.479980  3690.010010   \n",
       "2020-12-24         625  3694.030029  3756.120117  3689.320068  3732.040039   \n",
       "\n",
       "              Adj Close       Volume  \n",
       "Date                                  \n",
       "2010-01-07  1145.680054  22802570000  \n",
       "2010-01-14  1138.040039  18209320000  \n",
       "2010-01-21  1097.500000  27615360000  \n",
       "2010-01-28  1097.280029  23977850000  \n",
       "2010-02-04  1068.130005  25754120000  \n",
       "...                 ...          ...  \n",
       "2020-11-26  3669.010010  19503130000  \n",
       "2020-12-03  3672.820068  24726300000  \n",
       "2020-12-10  3701.169922  21997540000  \n",
       "2020-12-17  3690.010010  23782000000  \n",
       "2020-12-24  3732.040039  11944780000  \n",
       "\n",
       "[573 rows x 7 columns]"
      ]
     },
     "execution_count": 31,
     "metadata": {},
     "output_type": "execute_result"
    }
   ],
   "source": [
    "filtered_dates.drop(['Relative'], axis=1)"
   ]
  },
  {
   "cell_type": "code",
   "execution_count": 32,
   "id": "e101bcde",
   "metadata": {},
   "outputs": [
    {
     "name": "stderr",
     "output_type": "stream",
     "text": [
      "C:\\Users\\Usuario\\AppData\\Local\\Temp/ipykernel_57376/1391807714.py:1: SettingWithCopyWarning: \n",
      "A value is trying to be set on a copy of a slice from a DataFrame.\n",
      "Try using .loc[row_indexer,col_indexer] = value instead\n",
      "\n",
      "See the caveats in the documentation: https://pandas.pydata.org/pandas-docs/stable/user_guide/indexing.html#returning-a-view-versus-a-copy\n",
      "  filtered_dates['Relative'] = filtered_dates[\"Open\"]/filtered_dates[\"Open\"][0]\n"
     ]
    }
   ],
   "source": [
    "filtered_dates['Relative'] = filtered_dates[\"Open\"]/filtered_dates[\"Open\"][0]"
   ]
  },
  {
   "cell_type": "code",
   "execution_count": 33,
   "id": "25877d11",
   "metadata": {},
   "outputs": [
    {
     "data": {
      "text/html": [
       "<div>\n",
       "<style scoped>\n",
       "    .dataframe tbody tr th:only-of-type {\n",
       "        vertical-align: middle;\n",
       "    }\n",
       "\n",
       "    .dataframe tbody tr th {\n",
       "        vertical-align: top;\n",
       "    }\n",
       "\n",
       "    .dataframe thead th {\n",
       "        text-align: right;\n",
       "    }\n",
       "</style>\n",
       "<table border=\"1\" class=\"dataframe\">\n",
       "  <thead>\n",
       "    <tr style=\"text-align: right;\">\n",
       "      <th></th>\n",
       "      <th>Unnamed: 0</th>\n",
       "      <th>Open</th>\n",
       "      <th>High</th>\n",
       "      <th>Low</th>\n",
       "      <th>Close</th>\n",
       "      <th>Adj Close</th>\n",
       "      <th>Volume</th>\n",
       "      <th>Relative</th>\n",
       "    </tr>\n",
       "    <tr>\n",
       "      <th>Date</th>\n",
       "      <th></th>\n",
       "      <th></th>\n",
       "      <th></th>\n",
       "      <th></th>\n",
       "      <th></th>\n",
       "      <th></th>\n",
       "      <th></th>\n",
       "      <th></th>\n",
       "    </tr>\n",
       "  </thead>\n",
       "  <tbody>\n",
       "    <tr>\n",
       "      <th>2010-01-07</th>\n",
       "      <td>53</td>\n",
       "      <td>1136.270020</td>\n",
       "      <td>1149.739990</td>\n",
       "      <td>1131.319946</td>\n",
       "      <td>1145.680054</td>\n",
       "      <td>1145.680054</td>\n",
       "      <td>22802570000</td>\n",
       "      <td>1.000000</td>\n",
       "    </tr>\n",
       "    <tr>\n",
       "      <th>2010-01-14</th>\n",
       "      <td>54</td>\n",
       "      <td>1145.680054</td>\n",
       "      <td>1150.449951</td>\n",
       "      <td>1129.250000</td>\n",
       "      <td>1138.040039</td>\n",
       "      <td>1138.040039</td>\n",
       "      <td>18209320000</td>\n",
       "      <td>1.008282</td>\n",
       "    </tr>\n",
       "    <tr>\n",
       "      <th>2010-01-21</th>\n",
       "      <td>55</td>\n",
       "      <td>1138.680054</td>\n",
       "      <td>1141.579956</td>\n",
       "      <td>1083.109985</td>\n",
       "      <td>1097.500000</td>\n",
       "      <td>1097.500000</td>\n",
       "      <td>27615360000</td>\n",
       "      <td>1.002121</td>\n",
       "    </tr>\n",
       "    <tr>\n",
       "      <th>2010-01-28</th>\n",
       "      <td>56</td>\n",
       "      <td>1096.930054</td>\n",
       "      <td>1104.729980</td>\n",
       "      <td>1071.589966</td>\n",
       "      <td>1097.280029</td>\n",
       "      <td>1097.280029</td>\n",
       "      <td>23977850000</td>\n",
       "      <td>0.965378</td>\n",
       "    </tr>\n",
       "    <tr>\n",
       "      <th>2010-02-04</th>\n",
       "      <td>57</td>\n",
       "      <td>1097.250000</td>\n",
       "      <td>1097.250000</td>\n",
       "      <td>1044.500000</td>\n",
       "      <td>1068.130005</td>\n",
       "      <td>1068.130005</td>\n",
       "      <td>25754120000</td>\n",
       "      <td>0.965660</td>\n",
       "    </tr>\n",
       "    <tr>\n",
       "      <th>...</th>\n",
       "      <td>...</td>\n",
       "      <td>...</td>\n",
       "      <td>...</td>\n",
       "      <td>...</td>\n",
       "      <td>...</td>\n",
       "      <td>...</td>\n",
       "      <td>...</td>\n",
       "      <td>...</td>\n",
       "    </tr>\n",
       "    <tr>\n",
       "      <th>2020-11-26</th>\n",
       "      <td>621</td>\n",
       "      <td>3638.550049</td>\n",
       "      <td>3678.449951</td>\n",
       "      <td>3594.389893</td>\n",
       "      <td>3669.010010</td>\n",
       "      <td>3669.010010</td>\n",
       "      <td>19503130000</td>\n",
       "      <td>3.202188</td>\n",
       "    </tr>\n",
       "    <tr>\n",
       "      <th>2020-12-03</th>\n",
       "      <td>622</td>\n",
       "      <td>3668.280029</td>\n",
       "      <td>3712.389893</td>\n",
       "      <td>3657.169922</td>\n",
       "      <td>3672.820068</td>\n",
       "      <td>3672.820068</td>\n",
       "      <td>24726300000</td>\n",
       "      <td>3.228352</td>\n",
       "    </tr>\n",
       "    <tr>\n",
       "      <th>2020-12-10</th>\n",
       "      <td>623</td>\n",
       "      <td>3659.129883</td>\n",
       "      <td>3711.270020</td>\n",
       "      <td>3633.399902</td>\n",
       "      <td>3701.169922</td>\n",
       "      <td>3701.169922</td>\n",
       "      <td>21997540000</td>\n",
       "      <td>3.220300</td>\n",
       "    </tr>\n",
       "    <tr>\n",
       "      <th>2020-12-17</th>\n",
       "      <td>624</td>\n",
       "      <td>3713.649902</td>\n",
       "      <td>3726.699951</td>\n",
       "      <td>3636.479980</td>\n",
       "      <td>3690.010010</td>\n",
       "      <td>3690.010010</td>\n",
       "      <td>23782000000</td>\n",
       "      <td>3.268281</td>\n",
       "    </tr>\n",
       "    <tr>\n",
       "      <th>2020-12-24</th>\n",
       "      <td>625</td>\n",
       "      <td>3694.030029</td>\n",
       "      <td>3756.120117</td>\n",
       "      <td>3689.320068</td>\n",
       "      <td>3732.040039</td>\n",
       "      <td>3732.040039</td>\n",
       "      <td>11944780000</td>\n",
       "      <td>3.251014</td>\n",
       "    </tr>\n",
       "  </tbody>\n",
       "</table>\n",
       "<p>573 rows × 8 columns</p>\n",
       "</div>"
      ],
      "text/plain": [
       "            Unnamed: 0         Open         High          Low        Close  \\\n",
       "Date                                                                         \n",
       "2010-01-07          53  1136.270020  1149.739990  1131.319946  1145.680054   \n",
       "2010-01-14          54  1145.680054  1150.449951  1129.250000  1138.040039   \n",
       "2010-01-21          55  1138.680054  1141.579956  1083.109985  1097.500000   \n",
       "2010-01-28          56  1096.930054  1104.729980  1071.589966  1097.280029   \n",
       "2010-02-04          57  1097.250000  1097.250000  1044.500000  1068.130005   \n",
       "...                ...          ...          ...          ...          ...   \n",
       "2020-11-26         621  3638.550049  3678.449951  3594.389893  3669.010010   \n",
       "2020-12-03         622  3668.280029  3712.389893  3657.169922  3672.820068   \n",
       "2020-12-10         623  3659.129883  3711.270020  3633.399902  3701.169922   \n",
       "2020-12-17         624  3713.649902  3726.699951  3636.479980  3690.010010   \n",
       "2020-12-24         625  3694.030029  3756.120117  3689.320068  3732.040039   \n",
       "\n",
       "              Adj Close       Volume  Relative  \n",
       "Date                                            \n",
       "2010-01-07  1145.680054  22802570000  1.000000  \n",
       "2010-01-14  1138.040039  18209320000  1.008282  \n",
       "2010-01-21  1097.500000  27615360000  1.002121  \n",
       "2010-01-28  1097.280029  23977850000  0.965378  \n",
       "2010-02-04  1068.130005  25754120000  0.965660  \n",
       "...                 ...          ...       ...  \n",
       "2020-11-26  3669.010010  19503130000  3.202188  \n",
       "2020-12-03  3672.820068  24726300000  3.228352  \n",
       "2020-12-10  3701.169922  21997540000  3.220300  \n",
       "2020-12-17  3690.010010  23782000000  3.268281  \n",
       "2020-12-24  3732.040039  11944780000  3.251014  \n",
       "\n",
       "[573 rows x 8 columns]"
      ]
     },
     "execution_count": 33,
     "metadata": {},
     "output_type": "execute_result"
    }
   ],
   "source": [
    "filtered_dates"
   ]
  },
  {
   "cell_type": "code",
   "execution_count": 34,
   "id": "a812894b",
   "metadata": {},
   "outputs": [],
   "source": [
    "modelo = 'Modelo Arbol de decisión'"
   ]
  },
  {
   "cell_type": "code",
   "execution_count": 35,
   "id": "af9db388",
   "metadata": {},
   "outputs": [
    {
     "name": "stdout",
     "output_type": "stream",
     "text": [
      "Volatilidad Modelo:  0.40402949312538944\n",
      "Volatilidad S&P 500:  0.3131362579812779\n",
      "Retorno modelo:   118.85787829357261 %\n",
      "Retorno S&P 500:   225.10142518765042 %\n"
     ]
    },
    {
     "data": {
      "image/png": "[encoded data removed]",
      "text/plain": [
       "<Figure size 576x360 with 1 Axes>"
      ]
     },
     "metadata": {
      "needs_background": "light"
     },
     "output_type": "display_data"
    }
   ],
   "source": [
    "plt.figure(figsize=(8,5))\n",
    "plt.plot(filtered_dates['Relative'], color='C1')\n",
    "plt.plot(test[\"Indexed Performance\"], color='C0')\n",
    "plt.legend(['S&P500 ', modelo])\n",
    "plt.xlabel('Tiempo')\n",
    "plt.ylabel('Retorno relativo')\n",
    "plt.grid()\n",
    "print('Volatilidad Modelo: ', test['Indexed Performance'].diff().std()*np.sqrt(52))\n",
    "print('Volatilidad S&P 500: ', filtered_dates['Relative'].diff().std()*np.sqrt(52))\n",
    "print('Retorno modelo:  ', 100 * (test[\"Indexed Performance\"][-1]-1), '%')\n",
    "print('Retorno S&P 500:  ', 100 * (filtered_dates[\"Relative\"][-1]-1), '%')"
   ]
  },
  {
   "cell_type": "code",
   "execution_count": 38,
   "id": "01718a19",
   "metadata": {},
   "outputs": [],
   "source": [
    "test.to_csv(\"filtered_dates_DTREES.csv\")"
   ]
  },
  {
   "cell_type": "code",
   "execution_count": null,
   "id": "39bf74cf",
   "metadata": {},
   "outputs": [],
   "source": []
  }
 ],
 "metadata": {
  "kernelspec": {
   "display_name": "Python 3 (ipykernel)",
   "language": "python",
   "name": "python3"
  },
  "language_info": {
   "codemirror_mode": {
    "name": "ipython",
    "version": 3
   },
   "file_extension": ".py",
   "mimetype": "text/x-python",
   "name": "python",
   "nbconvert_exporter": "python",
   "pygments_lexer": "ipython3",
   "version": "3.9.7"
  }
 },
 "nbformat": 4,
 "nbformat_minor": 5
}
